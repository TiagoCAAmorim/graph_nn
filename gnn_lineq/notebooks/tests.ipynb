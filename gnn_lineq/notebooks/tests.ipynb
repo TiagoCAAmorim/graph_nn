{
 "cells": [
  {
   "cell_type": "markdown",
   "metadata": {},
   "source": [
    "# Dataloader"
   ]
  },
  {
   "cell_type": "code",
   "execution_count": 1,
   "metadata": {},
   "outputs": [],
   "source": [
    "from pathlib import Path\n",
    "import numpy as np\n",
    "from numpy import random\n",
    "import torch\n",
    "from scipy.sparse import diags\n",
    "from scipy.sparse.linalg import spsolve\n",
    "import matplotlib.pyplot as plt\n",
    "\n",
    "\n",
    "import logging\n",
    "logger = logging.getLogger(__name__)"
   ]
  },
  {
   "cell_type": "code",
   "execution_count": 2,
   "metadata": {},
   "outputs": [],
   "source": [
    "def _start_logging():\n",
    "    logging.basicConfig(filename='tests.log', filemode='w', level=logging.INFO, force=True,\n",
    "                        format='%(asctime)s %(levelname)s %(module)s.%(funcName)s - %(message)s')\n",
    "    logger.info('Started logging')\n",
    "\n",
    "    # logger.debug('This is a debug message')\n",
    "    # logger.info('This is an info message')\n",
    "    # logger.warning('This is a warning message')\n",
    "    # logger.error('This is an error message')\n",
    "    # logger.critical('This is a critical message')\n",
    "_start_logging()"
   ]
  },
  {
   "cell_type": "markdown",
   "metadata": {},
   "source": [
    "# Plots"
   ]
  },
  {
   "cell_type": "code",
   "execution_count": 3,
   "metadata": {},
   "outputs": [],
   "source": [
    "def plot_histograms(arrays, bins=30, figsize=(6, 1), max_height=20, title=None):\n",
    "    \"\"\"\n",
    "    Plot histograms for a list of numpy arrays in a single column.\n",
    "\n",
    "    Parameters:\n",
    "    arrays (list of np.array): List of numpy arrays to plot.\n",
    "    bins (int): Number of bins for the histograms.\n",
    "    figsize (tuple): Size of the figure. The height is multiplied\n",
    "        by the number of arrays to plot.\n",
    "    max_height (int): Maximum height of the figure in inches.\n",
    "    \"\"\"\n",
    "    num_arrays = len(arrays)\n",
    "    figsize = (figsize[0], min(figsize[1]*(1+num_arrays), max_height))\n",
    "    _, axes = plt.subplots(num_arrays, 1, figsize=figsize, sharex=True)\n",
    "\n",
    "    if num_arrays == 1:\n",
    "        axes = [axes]\n",
    "\n",
    "    for i, data in enumerate(arrays):\n",
    "        axes[i].hist(data, bins=bins, edgecolor='black')\n",
    "        axes[i].set_ylabel('Freq.')\n",
    "\n",
    "    if title is not None:\n",
    "        axes[0].set_title(title)\n",
    "\n",
    "    axes[-1].set_xlabel('Value')\n",
    "    plt.tight_layout()\n",
    "    plt.show()"
   ]
  },
  {
   "cell_type": "markdown",
   "metadata": {},
   "source": [
    "# Sample Generation"
   ]
  },
  {
   "cell_type": "code",
   "execution_count": 4,
   "metadata": {},
   "outputs": [],
   "source": [
    "def _get_random_scale(uniform_range=(1.,1.)):\n",
    "    rng = np.random.default_rng()\n",
    "    low = uniform_range[0]\n",
    "    high = uniform_range[1]\n",
    "    return rng.uniform(low=low, high=high, size=1)\n",
    "\n",
    "def number_generator(size=1, uniform_range=(1.,1.), log_=False):\n",
    "    \"\"\"\n",
    "    Generates random numbers with a probabilistic range.\n",
    "\n",
    "    The mean of the random numbers is drawn from a uniform distribution\n",
    "    between -1 and 1. The range of the random numbers is drawn from a\n",
    "    uniform distribution. The range of the range is given by the\n",
    "    `uniform_range` parameter.\n",
    "\n",
    "    Parameters:\n",
    "    size (int): Number of random numbers to generate.\n",
    "    uniform_range (tuple): Limits of the range for the random numbers.\n",
    "        Draws from a uniform distribution.\n",
    "    log_ (bool): If True, writes results to log file.\n",
    "    \"\"\"\n",
    "    rng = np.random.default_rng()\n",
    "    range_ = _get_random_scale(uniform_range)\n",
    "    mean = rng.uniform(low=-1, high=1, size=1)\n",
    "    if log_:\n",
    "        logger.info(f'mean: {mean[0]:.4g}')\n",
    "        logger.info(f'range: {range_[0]:.4g}')\n",
    "    return rng.uniform(low=mean-0.5*range_, high=mean+0.5*range_, size=size)\n",
    "\n",
    "# data_ = []\n",
    "# for _ in range(10):\n",
    "#     data_.append(number_generator(1000, uniform_range=(0.1,10.), log_=True))\n",
    "# plot_histograms(data_, bins=30)"
   ]
  },
  {
   "cell_type": "code",
   "execution_count": 5,
   "metadata": {},
   "outputs": [],
   "source": [
    "def _get_diagonals(number_generator,\n",
    "                  rank=5,\n",
    "                  off_diagonal_abs_mean=0.5,\n",
    "                  symmetric=False,\n",
    "                  uniform_range=(0.1,10.),\n",
    "                  log_=False):\n",
    "\n",
    "    if rank < 3:\n",
    "        raise ValueError(\"Rank must be at least 3\")\n",
    "\n",
    "    n_diag_1 = rank-1\n",
    "    n_diag_2 = rank-2\n",
    "\n",
    "    n_ = 1 if symmetric else 2\n",
    "    data = number_generator(n_*(n_diag_1 + n_diag_2), uniform_range=uniform_range, log_=log_)\n",
    "\n",
    "    mean_abs = np.abs(data).mean()\n",
    "    alpha = off_diagonal_abs_mean / mean_abs\n",
    "    data = data * alpha\n",
    "\n",
    "    if log_:\n",
    "        logger.info(f'Abs mean: {mean_abs:.4g}')\n",
    "        logger.info(f'Alpha: {alpha:.4g}')\n",
    "        logger.info(f'New abs mean: {np.abs(data).mean():.4g}')\n",
    "\n",
    "    diag_1_u = data[:n_diag_1]\n",
    "    diag_2_u = data[n_diag_1: n_diag_1+n_diag_2]\n",
    "\n",
    "    diag_1_l = data[(n_-1)*(n_diag_1+n_diag_2): n_*n_diag_1+n_diag_2]\n",
    "    diag_2_l = data[(n_-1)*(n_diag_1+n_diag_2) + n_diag_1: n_*(n_diag_1+n_diag_2)]\n",
    "\n",
    "    return [diag_2_u, diag_1_u, diag_1_l, diag_2_l]\n",
    "\n",
    "# data = []\n",
    "# for _ in range(10):\n",
    "#     diag_ = _get_diagonals(number_generator, rank=50, off_diagonal_abs_mean=5.0, symmetric=False, uniform_range=(0.1,10.), log_=True)\n",
    "#     data.append(np.concat(diag_))\n",
    "# plot_histograms(data, bins=30)"
   ]
  },
  {
   "cell_type": "code",
   "execution_count": 6,
   "metadata": {},
   "outputs": [
    {
     "name": "stdout",
     "output_type": "stream",
     "text": [
      "Matrix\n",
      "[[ 1.         -6.53188583 -0.14358835  0.          0.        ]\n",
      " [ 2.18779298  1.          2.28053099 -3.03022066  0.        ]\n",
      " [ 3.31797208  3.69730078  1.          8.43201239 10.20771814]\n",
      " [ 0.          5.10410751 -2.930794    1.         -5.37440119]\n",
      " [ 0.          0.         11.70286736 -5.05880774  1.        ]]\n",
      "Original diagonals\n",
      "   diag_2_u\n",
      "     [-0.14358835 -3.03022066 10.20771814]\n",
      "   diag_1_u\n",
      "     [-6.53188583  2.28053099  8.43201239 -5.37440119]\n",
      "   diag_1_l\n",
      "     [ 2.18779298  3.69730078 -2.930794   -5.05880774]\n",
      "   diag_2_l\n",
      "     [ 3.31797208  5.10410751 11.70286736]\n"
     ]
    }
   ],
   "source": [
    "def _matrix_from_diags(data):\n",
    "    diag_2_u, diag_1_u, diag_1_l, diag_2_l = data\n",
    "    n_diag = diag_1_u.shape[0] + 1\n",
    "    main_diag = np.ones(n_diag)\n",
    "    data_ = [diag_2_l, diag_1_l, main_diag, diag_1_u, diag_2_u]\n",
    "    offsets = [-2, -1, 0, 1, 2]\n",
    "    return diags(data_, offsets, format='csr')\n",
    "\n",
    "diag_ = _get_diagonals(number_generator, rank=5, off_diagonal_abs_mean=5.0, symmetric=False, uniform_range=(0.1,10.), log_=False)\n",
    "data_ = _matrix_from_diags(diag_)\n",
    "print('Matrix')\n",
    "print(data_.toarray())\n",
    "\n",
    "print('Original diagonals')\n",
    "for s,d in zip(['diag_2_u', 'diag_1_u', 'diag_1_l', 'diag_2_l'], diag_):\n",
    "    print('  ', s)\n",
    "    print('    ', d)"
   ]
  },
  {
   "cell_type": "code",
   "execution_count": null,
   "metadata": {},
   "outputs": [
    {
     "name": "stdout",
     "output_type": "stream",
     "text": [
      "Matrix\n",
      "Too big to print a (10000000, 10000000) matrix.\n",
      "x_true\n",
      "[-1.14954861 -1.18926548 -1.22668983 ... -0.63844766 -0.34031333\n",
      " -0.37058542]\n",
      "b\n",
      "[-1.00798184 -2.7902782  -3.03387602 ... -0.52886687 -0.22879127\n",
      " -0.72503931]\n",
      "Residual: 6.718e-17\n",
      "[-2.22044605e-15 -1.33226763e-15  1.04360964e-14 ... -1.11022302e-16\n",
      "  0.00000000e+00  5.55111512e-17]\n",
      "  Abs mean: 9.906e-15\n"
     ]
    }
   ],
   "source": [
    "def get_sample(number_generator,\n",
    "               rank=5,\n",
    "               off_diagonal_abs_mean=0.5,\n",
    "               symmetric=False,\n",
    "               uniform_range=(0.1,10.),\n",
    "               log_=False):\n",
    "    \"\"\"Get a linear system sample.\"\"\"\n",
    "\n",
    "    diag_ = _get_diagonals(\n",
    "        number_generator,\n",
    "        rank=rank,\n",
    "        off_diagonal_abs_mean=off_diagonal_abs_mean,\n",
    "        symmetric=symmetric,\n",
    "        uniform_range=uniform_range,\n",
    "        log_=log_)\n",
    "    matrix_a = _matrix_from_diags(diag_)\n",
    "    n = matrix_a.shape[0]\n",
    "\n",
    "    x_true = number_generator(size=n, uniform_range=(1.,1.))\n",
    "    b = matrix_a.dot(x_true)\n",
    "\n",
    "    return (matrix_a, x_true, b)\n",
    "\n",
    "def _get_residual(matrix, x_true, b):\n",
    "    x_solve = spsolve(matrix, b)\n",
    "    residual = x_solve - x_true\n",
    "    return residual\n",
    "\n",
    "data_ = get_sample(number_generator, rank=10000000, off_diagonal_abs_mean=0.5, symmetric=False, uniform_range=(0.1,10.), log_=True)\n",
    "print('Matrix')\n",
    "try:\n",
    "    print(data_[0].toarray())\n",
    "except:\n",
    "    print(f'Too big to print a {data_[0].shape} matrix.')\n",
    "print('x_true')\n",
    "print(data_[1])\n",
    "print('b')\n",
    "print(data_[2])\n",
    "\n",
    "residual = _get_residual(data_[0], data_[1], data_[2])\n",
    "print(f'Residual: {residual.mean():.4g}')\n",
    "print(residual)\n",
    "print(f'  Abs mean: {np.abs(residual).mean():.4g}')"
   ]
  }
 ],
 "metadata": {
  "kernelspec": {
   "display_name": ".venv",
   "language": "python",
   "name": "python3"
  },
  "language_info": {
   "codemirror_mode": {
    "name": "ipython",
    "version": 3
   },
   "file_extension": ".py",
   "mimetype": "text/x-python",
   "name": "python",
   "nbconvert_exporter": "python",
   "pygments_lexer": "ipython3",
   "version": "3.12.3"
  }
 },
 "nbformat": 4,
 "nbformat_minor": 2
}
